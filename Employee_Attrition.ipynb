{
 "cells": [
  {
   "cell_type": "markdown",
   "metadata": {},
   "source": [
    "## Predicting Employee Attrition: A Human Resources Solution\n",
    "### Leonid Shpaner, Payal Bhavesh Muni, and Sean Torres"
   ]
  },
  {
   "cell_type": "code",
   "execution_count": 1,
   "metadata": {},
   "outputs": [],
   "source": [
    "import pandas as pd\n",
    "import numpy as np\n",
    "import seaborn as sns\n",
    "import matplotlib.pyplot as plt\n",
    "import matplotlib.lines as mlines\n",
    "%matplotlib inline\n",
    "\n",
    "import statsmodels.api as sm\n",
    "\n",
    "from sklearn.model_selection import train_test_split"
   ]
  },
  {
   "cell_type": "markdown",
   "metadata": {},
   "source": [
    "### Reading in and inspecting the dataframe"
   ]
  },
  {
   "cell_type": "code",
   "execution_count": 2,
   "metadata": {},
   "outputs": [],
   "source": [
    "# read in the dataset from excel\n",
    "hr = pd.read_excel('HR_Employee_Data.xlsx')"
   ]
  },
  {
   "cell_type": "code",
   "execution_count": 3,
   "metadata": {},
   "outputs": [
    {
     "data": {
      "text/html": [
       "<div>\n",
       "<style scoped>\n",
       "    .dataframe tbody tr th:only-of-type {\n",
       "        vertical-align: middle;\n",
       "    }\n",
       "\n",
       "    .dataframe tbody tr th {\n",
       "        vertical-align: top;\n",
       "    }\n",
       "\n",
       "    .dataframe thead th {\n",
       "        text-align: right;\n",
       "    }\n",
       "</style>\n",
       "<table border=\"1\" class=\"dataframe\">\n",
       "  <thead>\n",
       "    <tr style=\"text-align: right;\">\n",
       "      <th></th>\n",
       "      <th>Emp_Id</th>\n",
       "      <th>satisfaction_level</th>\n",
       "      <th>last_evaluation</th>\n",
       "      <th>number_project</th>\n",
       "      <th>average_montly_hours</th>\n",
       "      <th>time_spend_company</th>\n",
       "      <th>Work_accident</th>\n",
       "      <th>left</th>\n",
       "      <th>promotion_last_5years</th>\n",
       "      <th>Department</th>\n",
       "      <th>salary</th>\n",
       "    </tr>\n",
       "  </thead>\n",
       "  <tbody>\n",
       "    <tr>\n",
       "      <th>0</th>\n",
       "      <td>IND02438</td>\n",
       "      <td>0.38</td>\n",
       "      <td>0.53</td>\n",
       "      <td>2</td>\n",
       "      <td>157</td>\n",
       "      <td>3</td>\n",
       "      <td>0</td>\n",
       "      <td>1</td>\n",
       "      <td>0</td>\n",
       "      <td>sales</td>\n",
       "      <td>low</td>\n",
       "    </tr>\n",
       "    <tr>\n",
       "      <th>1</th>\n",
       "      <td>IND28133</td>\n",
       "      <td>0.80</td>\n",
       "      <td>0.86</td>\n",
       "      <td>5</td>\n",
       "      <td>262</td>\n",
       "      <td>6</td>\n",
       "      <td>0</td>\n",
       "      <td>1</td>\n",
       "      <td>0</td>\n",
       "      <td>sales</td>\n",
       "      <td>medium</td>\n",
       "    </tr>\n",
       "    <tr>\n",
       "      <th>2</th>\n",
       "      <td>IND07164</td>\n",
       "      <td>0.11</td>\n",
       "      <td>0.88</td>\n",
       "      <td>7</td>\n",
       "      <td>272</td>\n",
       "      <td>4</td>\n",
       "      <td>0</td>\n",
       "      <td>1</td>\n",
       "      <td>0</td>\n",
       "      <td>sales</td>\n",
       "      <td>medium</td>\n",
       "    </tr>\n",
       "    <tr>\n",
       "      <th>3</th>\n",
       "      <td>IND30478</td>\n",
       "      <td>0.72</td>\n",
       "      <td>0.87</td>\n",
       "      <td>5</td>\n",
       "      <td>223</td>\n",
       "      <td>5</td>\n",
       "      <td>0</td>\n",
       "      <td>1</td>\n",
       "      <td>0</td>\n",
       "      <td>sales</td>\n",
       "      <td>low</td>\n",
       "    </tr>\n",
       "    <tr>\n",
       "      <th>4</th>\n",
       "      <td>IND24003</td>\n",
       "      <td>0.37</td>\n",
       "      <td>0.52</td>\n",
       "      <td>2</td>\n",
       "      <td>159</td>\n",
       "      <td>3</td>\n",
       "      <td>0</td>\n",
       "      <td>1</td>\n",
       "      <td>0</td>\n",
       "      <td>sales</td>\n",
       "      <td>low</td>\n",
       "    </tr>\n",
       "  </tbody>\n",
       "</table>\n",
       "</div>"
      ],
      "text/plain": [
       "     Emp_Id  satisfaction_level  last_evaluation  number_project  \\\n",
       "0  IND02438                0.38             0.53               2   \n",
       "1  IND28133                0.80             0.86               5   \n",
       "2  IND07164                0.11             0.88               7   \n",
       "3  IND30478                0.72             0.87               5   \n",
       "4  IND24003                0.37             0.52               2   \n",
       "\n",
       "   average_montly_hours  time_spend_company  Work_accident  left  \\\n",
       "0                   157                   3              0     1   \n",
       "1                   262                   6              0     1   \n",
       "2                   272                   4              0     1   \n",
       "3                   223                   5              0     1   \n",
       "4                   159                   3              0     1   \n",
       "\n",
       "   promotion_last_5years Department  salary  \n",
       "0                      0      sales     low  \n",
       "1                      0      sales  medium  \n",
       "2                      0      sales  medium  \n",
       "3                      0      sales     low  \n",
       "4                      0      sales     low  "
      ]
     },
     "execution_count": 3,
     "metadata": {},
     "output_type": "execute_result"
    }
   ],
   "source": [
    "# inspect the first 5 rows of the dataset\n",
    "hr.head()"
   ]
  },
  {
   "cell_type": "code",
   "execution_count": 4,
   "metadata": {},
   "outputs": [
    {
     "name": "stdout",
     "output_type": "stream",
     "text": [
      "Number of Rows: 14999\n",
      "Number of Rows: 11\n"
     ]
    }
   ],
   "source": [
    "# inspect # of rows and columns\n",
    "numb_rows = hr.shape[0]\n",
    "numb_col = hr.shape[1]\n",
    "\n",
    "print('Number of Rows:', numb_rows)\n",
    "print('Number of Rows:', numb_col)"
   ]
  },
  {
   "cell_type": "markdown",
   "metadata": {},
   "source": [
    "## Exploratory Data Analysis (EDA)"
   ]
  },
  {
   "cell_type": "markdown",
   "metadata": {},
   "source": [
    "**Renaming Columns**"
   ]
  },
  {
   "cell_type": "code",
   "execution_count": 5,
   "metadata": {},
   "outputs": [],
   "source": [
    "# Renaming some columns\n",
    "hr = hr.rename(columns={'Emp_Id':'Employee_ID',\n",
    "                        'average_montly_hours':\n",
    "                        'average_monthly_hours',\n",
    "                        'left':'Attrition'})\n",
    "# Dummy Target Variable in a new column\n",
    "hr['Status'] = hr['Attrition'].map({1:'left', 0:'stayed'})"
   ]
  },
  {
   "cell_type": "code",
   "execution_count": 6,
   "metadata": {},
   "outputs": [
    {
     "name": "stdout",
     "output_type": "stream",
     "text": [
      "\u001b[1mData Types\u001b[1m\n"
     ]
    },
    {
     "data": {
      "text/plain": [
       "Employee_ID               object\n",
       "satisfaction_level       float64\n",
       "last_evaluation          float64\n",
       "number_project             int64\n",
       "average_monthly_hours      int64\n",
       "time_spend_company         int64\n",
       "Work_accident              int64\n",
       "Attrition                  int64\n",
       "promotion_last_5years      int64\n",
       "Department                object\n",
       "salary                    object\n",
       "Status                    object\n",
       "dtype: object"
      ]
     },
     "execution_count": 6,
     "metadata": {},
     "output_type": "execute_result"
    }
   ],
   "source": [
    "print(\"\\033[1m\"+'Data Types'+\"\\033[1m\")\n",
    "hr.dtypes"
   ]
  },
  {
   "cell_type": "code",
   "execution_count": 7,
   "metadata": {},
   "outputs": [
    {
     "data": {
      "text/plain": [
       "14999"
      ]
     },
     "execution_count": 7,
     "metadata": {},
     "output_type": "execute_result"
    }
   ],
   "source": [
    "# check for unique employee ID number\n",
    "hr['Employee_ID'].nunique()"
   ]
  },
  {
   "cell_type": "markdown",
   "metadata": {},
   "source": [
    "**There are 14,999 unique employees in this dataset.**"
   ]
  },
  {
   "cell_type": "code",
   "execution_count": 8,
   "metadata": {},
   "outputs": [
    {
     "name": "stdout",
     "output_type": "stream",
     "text": [
      "\u001b[1mNull Value Counts\u001b[1m\n"
     ]
    },
    {
     "data": {
      "text/plain": [
       "Employee_ID              0\n",
       "satisfaction_level       0\n",
       "last_evaluation          0\n",
       "number_project           0\n",
       "average_monthly_hours    0\n",
       "time_spend_company       0\n",
       "Work_accident            0\n",
       "Attrition                0\n",
       "promotion_last_5years    0\n",
       "Department               0\n",
       "salary                   0\n",
       "Status                   0\n",
       "dtype: int64"
      ]
     },
     "execution_count": 8,
     "metadata": {},
     "output_type": "execute_result"
    }
   ],
   "source": [
    "# inspect dataset for missing values\n",
    "print(\"\\033[1m\"+'Null Value Counts'+\"\\033[1m\")\n",
    "hr.isnull().sum()"
   ]
  },
  {
   "cell_type": "code",
   "execution_count": 9,
   "metadata": {},
   "outputs": [
    {
     "name": "stdout",
     "output_type": "stream",
     "text": [
      "\u001b[1mEmployee Data: Correlation Matrix\u001b[1m\n"
     ]
    },
    {
     "data": {
      "image/png": "[encoded data removed]",
      "text/plain": [
       "<Figure size 648x648 with 2 Axes>"
      ]
     },
     "metadata": {
      "needs_background": "light"
     },
     "output_type": "display_data"
    }
   ],
   "source": [
    "print(\"\\033[1m\"+'Employee Data: Correlation Matrix'+\"\\033[1m\")\n",
    "corr = hr.corr()\n",
    "# sns.heatmap(corr, annot=True, mask=matrix)\n",
    "sns.set_context('paper', font_scale=1)\n",
    "plt.figure(figsize=(9,9))\n",
    "plt.tight_layout(pad = 10, w_pad=10, h_pad=10)\n",
    "matrix = np.triu(corr)\n",
    "sns.heatmap(hr.corr(method='pearson'), annot=True, \n",
    "            linewidths=.5, cmap=\"coolwarm\", mask=matrix,\n",
    "            square = True, cbar_kws={'label': 'Correlation Index'})\n",
    "plt.show()"
   ]
  },
  {
   "cell_type": "markdown",
   "metadata": {},
   "source": [
    "**A moderate correlation of *r* = 0.42 exists between 'average_monthly_hours' and 'number_project.' 'Number_project' is less moderately correlated to 'last_evaluation' at *r* = 0.35. 'Average_monthly_hours' is slightly less moderately correlated to 'last_evaluation' at *r* = 0.34. 'Satisfaction_level' is also moderately correlated with the target 'Attrition' with a correlation coefficient *r* = -0.39.**\n",
    "    \n",
    "**From this analysis and the ensuing scatter plots below, it can be said that there exists a negative relationship between employee satisfaction and attrition. There exist almost no relationships between attrition and  other predictors, except 'time_spend_company', where *r* = 0.14, and 'work_accident', where *r* = -0.15.**"
   ]
  },
  {
   "cell_type": "code",
   "execution_count": 10,
   "metadata": {},
   "outputs": [
    {
     "name": "stdout",
     "output_type": "stream",
     "text": [
      "\u001b[1mSelected Scatter Plots from Four Highest Correlated Predictors\u001b[1m\n"
     ]
    },
    {
     "data": {
      "image/png": "[encoded data removed]",
      "text/plain": [
       "<Figure size 720x360 with 4 Axes>"
      ]
     },
     "metadata": {
      "needs_background": "light"
     },
     "output_type": "display_data"
    }
   ],
   "source": [
    "print(\"\\033[1m\"+'Selected Scatter Plots from \\\n",
    "Four Highest Correlated Predictors'+\"\\033[1m\")\n",
    "\n",
    "fig, axes = plt.subplots(nrows=2, ncols=2, figsize=(10,5))\n",
    "flat = axes.flatten()\n",
    "fig.tight_layout(w_pad=4, h_pad=4)\n",
    "hr.plot.scatter(x='average_monthly_hours',\n",
    "                y='number_project',\n",
    "                c='DarkBlue',\n",
    "                ax=flat[0])\n",
    "corr1 = round(np.corrcoef(hr.average_monthly_hours,\n",
    "                                hr.number_project)[0,1],2)\n",
    "flat[0].set_title('Number Project vs. Average Monthly Hours;'\n",
    "                  ' $\\mathit{r}$ = ' + \"{:.2f}\".format(corr1))\n",
    "\n",
    "hr.plot.scatter(x='last_evaluation',\n",
    "                y='number_project',\n",
    "                c='DarkBlue',\n",
    "                ax=flat[1])\n",
    "corr2 = round(np.corrcoef(hr.last_evaluation,\n",
    "                                hr.number_project)[0,1],2)\n",
    "flat[1].set_title('Number Project vs. Last Evaluation;'\n",
    "                  ' $\\mathit{r}$ = ' + \"{:.2f}\".format(corr2))\n",
    "hr.plot.scatter(x='average_monthly_hours',\n",
    "                y='last_evaluation',\n",
    "                c='DarkBlue',\n",
    "                ax=flat[2])\n",
    "corr3 = round(np.corrcoef(hr.average_monthly_hours,\n",
    "                                hr.last_evaluation)[0,1],2)\n",
    "flat[2].set_title('Last Evaluation vs. Average Monthly Hours;'\n",
    "                  ' $\\mathit{r}$ = ' + \"{:.2f}\".format(corr3))\n",
    "hr.plot.scatter(x='satisfaction_level',\n",
    "                y='Attrition',\n",
    "                c='DarkBlue',\n",
    "                ax=flat[3])\n",
    "corr4 = round(np.corrcoef(hr.satisfaction_level,\n",
    "                                hr.Attrition)[0,1],2)\n",
    "flat[3].set_title('Satisfaction Level vs. Attrition (Target);'\n",
    "                  ' $\\mathit{r}$ = ' + \"{:.2f}\".format(corr4))\n",
    "plt.show()"
   ]
  },
  {
   "cell_type": "code",
   "execution_count": 11,
   "metadata": {},
   "outputs": [
    {
     "name": "stdout",
     "output_type": "stream",
     "text": [
      "\u001b[1mEmployee Summary Statistics\u001b[1m\n"
     ]
    },
    {
     "data": {
      "text/html": [
       "<div>\n",
       "<style scoped>\n",
       "    .dataframe tbody tr th:only-of-type {\n",
       "        vertical-align: middle;\n",
       "    }\n",
       "\n",
       "    .dataframe tbody tr th {\n",
       "        vertical-align: top;\n",
       "    }\n",
       "\n",
       "    .dataframe thead th {\n",
       "        text-align: right;\n",
       "    }\n",
       "</style>\n",
       "<table border=\"1\" class=\"dataframe\">\n",
       "  <thead>\n",
       "    <tr style=\"text-align: right;\">\n",
       "      <th></th>\n",
       "      <th>Mean</th>\n",
       "      <th>Standard Deviation</th>\n",
       "      <th>Minimum</th>\n",
       "      <th>25%</th>\n",
       "      <th>50%</th>\n",
       "      <th>75%</th>\n",
       "      <th>Maximum</th>\n",
       "    </tr>\n",
       "  </thead>\n",
       "  <tbody>\n",
       "    <tr>\n",
       "      <th>satisfaction_level</th>\n",
       "      <td>0.61</td>\n",
       "      <td>0.25</td>\n",
       "      <td>0.09</td>\n",
       "      <td>0.44</td>\n",
       "      <td>0.64</td>\n",
       "      <td>0.82</td>\n",
       "      <td>1.00</td>\n",
       "    </tr>\n",
       "    <tr>\n",
       "      <th>last_evaluation</th>\n",
       "      <td>0.72</td>\n",
       "      <td>0.17</td>\n",
       "      <td>0.36</td>\n",
       "      <td>0.56</td>\n",
       "      <td>0.72</td>\n",
       "      <td>0.87</td>\n",
       "      <td>1.00</td>\n",
       "    </tr>\n",
       "    <tr>\n",
       "      <th>number_project</th>\n",
       "      <td>3.80</td>\n",
       "      <td>1.23</td>\n",
       "      <td>2.00</td>\n",
       "      <td>3.00</td>\n",
       "      <td>4.00</td>\n",
       "      <td>5.00</td>\n",
       "      <td>7.00</td>\n",
       "    </tr>\n",
       "    <tr>\n",
       "      <th>average_monthly_hours</th>\n",
       "      <td>201.05</td>\n",
       "      <td>49.94</td>\n",
       "      <td>96.00</td>\n",
       "      <td>156.00</td>\n",
       "      <td>200.00</td>\n",
       "      <td>245.00</td>\n",
       "      <td>310.00</td>\n",
       "    </tr>\n",
       "    <tr>\n",
       "      <th>time_spend_company</th>\n",
       "      <td>3.50</td>\n",
       "      <td>1.46</td>\n",
       "      <td>2.00</td>\n",
       "      <td>3.00</td>\n",
       "      <td>3.00</td>\n",
       "      <td>4.00</td>\n",
       "      <td>10.00</td>\n",
       "    </tr>\n",
       "    <tr>\n",
       "      <th>Work_accident</th>\n",
       "      <td>0.14</td>\n",
       "      <td>0.35</td>\n",
       "      <td>0.00</td>\n",
       "      <td>0.00</td>\n",
       "      <td>0.00</td>\n",
       "      <td>0.00</td>\n",
       "      <td>1.00</td>\n",
       "    </tr>\n",
       "    <tr>\n",
       "      <th>Attrition</th>\n",
       "      <td>0.24</td>\n",
       "      <td>0.43</td>\n",
       "      <td>0.00</td>\n",
       "      <td>0.00</td>\n",
       "      <td>0.00</td>\n",
       "      <td>0.00</td>\n",
       "      <td>1.00</td>\n",
       "    </tr>\n",
       "    <tr>\n",
       "      <th>promotion_last_5years</th>\n",
       "      <td>0.02</td>\n",
       "      <td>0.14</td>\n",
       "      <td>0.00</td>\n",
       "      <td>0.00</td>\n",
       "      <td>0.00</td>\n",
       "      <td>0.00</td>\n",
       "      <td>1.00</td>\n",
       "    </tr>\n",
       "  </tbody>\n",
       "</table>\n",
       "</div>"
      ],
      "text/plain": [
       "                        Mean  Standard Deviation  Minimum    25%    50%  \\\n",
       "satisfaction_level      0.61                0.25     0.09   0.44   0.64   \n",
       "last_evaluation         0.72                0.17     0.36   0.56   0.72   \n",
       "number_project          3.80                1.23     2.00   3.00   4.00   \n",
       "average_monthly_hours 201.05               49.94    96.00 156.00 200.00   \n",
       "time_spend_company      3.50                1.46     2.00   3.00   3.00   \n",
       "Work_accident           0.14                0.35     0.00   0.00   0.00   \n",
       "Attrition               0.24                0.43     0.00   0.00   0.00   \n",
       "promotion_last_5years   0.02                0.14     0.00   0.00   0.00   \n",
       "\n",
       "                         75%  Maximum  \n",
       "satisfaction_level      0.82     1.00  \n",
       "last_evaluation         0.87     1.00  \n",
       "number_project          5.00     7.00  \n",
       "average_monthly_hours 245.00   310.00  \n",
       "time_spend_company      4.00    10.00  \n",
       "Work_accident           0.00     1.00  \n",
       "Attrition               0.00     1.00  \n",
       "promotion_last_5years   0.00     1.00  "
      ]
     },
     "execution_count": 11,
     "metadata": {},
     "output_type": "execute_result"
    }
   ],
   "source": [
    "print(\"\\033[1m\"+'Employee Summary Statistics'+\"\\033[1m\")\n",
    "\n",
    "def summary_by_var():\n",
    "    pd.options.display.float_format = '{:,.2f}'.format\n",
    "    summary = hr.describe().loc[['mean', 'std', 'min', \n",
    "                                      '25%', '50%', '75%', 'max']].T\n",
    "    column_rename = {'mean': 'Mean', 'median': 'Median',\n",
    "                     'std': 'Standard Deviation',\\\n",
    "                     'min':'Minimum','max': 'Maximum'}\n",
    "    dfsummary = summary.rename(columns = column_rename)\n",
    "    return dfsummary\n",
    "\n",
    "summary_by_var()"
   ]
  },
  {
   "cell_type": "code",
   "execution_count": 12,
   "metadata": {},
   "outputs": [
    {
     "name": "stdout",
     "output_type": "stream",
     "text": [
      "\u001b[1mAverage Monthly Hours: Summary Statistics by Department\u001b[1m\n"
     ]
    },
    {
     "data": {
      "text/html": [
       "<div>\n",
       "<style scoped>\n",
       "    .dataframe tbody tr th:only-of-type {\n",
       "        vertical-align: middle;\n",
       "    }\n",
       "\n",
       "    .dataframe tbody tr th {\n",
       "        vertical-align: top;\n",
       "    }\n",
       "\n",
       "    .dataframe thead th {\n",
       "        text-align: right;\n",
       "    }\n",
       "</style>\n",
       "<table border=\"1\" class=\"dataframe\">\n",
       "  <thead>\n",
       "    <tr style=\"text-align: right;\">\n",
       "      <th></th>\n",
       "      <th>Mean</th>\n",
       "      <th>Median</th>\n",
       "      <th>Standard Deviation</th>\n",
       "      <th>Minimum</th>\n",
       "      <th>Maximum</th>\n",
       "    </tr>\n",
       "    <tr>\n",
       "      <th>Department</th>\n",
       "      <th></th>\n",
       "      <th></th>\n",
       "      <th></th>\n",
       "      <th></th>\n",
       "      <th></th>\n",
       "    </tr>\n",
       "  </thead>\n",
       "  <tbody>\n",
       "    <tr>\n",
       "      <th>IT</th>\n",
       "      <td>202.22</td>\n",
       "      <td>199.00</td>\n",
       "      <td>50.69</td>\n",
       "      <td>96.00</td>\n",
       "      <td>308.00</td>\n",
       "    </tr>\n",
       "    <tr>\n",
       "      <th>RandD</th>\n",
       "      <td>200.80</td>\n",
       "      <td>200.00</td>\n",
       "      <td>49.25</td>\n",
       "      <td>98.00</td>\n",
       "      <td>308.00</td>\n",
       "    </tr>\n",
       "    <tr>\n",
       "      <th>accounting</th>\n",
       "      <td>201.16</td>\n",
       "      <td>199.00</td>\n",
       "      <td>51.11</td>\n",
       "      <td>97.00</td>\n",
       "      <td>310.00</td>\n",
       "    </tr>\n",
       "    <tr>\n",
       "      <th>hr</th>\n",
       "      <td>198.68</td>\n",
       "      <td>197.00</td>\n",
       "      <td>50.37</td>\n",
       "      <td>98.00</td>\n",
       "      <td>310.00</td>\n",
       "    </tr>\n",
       "    <tr>\n",
       "      <th>management</th>\n",
       "      <td>201.25</td>\n",
       "      <td>204.00</td>\n",
       "      <td>47.38</td>\n",
       "      <td>97.00</td>\n",
       "      <td>307.00</td>\n",
       "    </tr>\n",
       "    <tr>\n",
       "      <th>marketing</th>\n",
       "      <td>199.39</td>\n",
       "      <td>198.00</td>\n",
       "      <td>49.36</td>\n",
       "      <td>96.00</td>\n",
       "      <td>310.00</td>\n",
       "    </tr>\n",
       "    <tr>\n",
       "      <th>product_mng</th>\n",
       "      <td>199.97</td>\n",
       "      <td>198.00</td>\n",
       "      <td>50.11</td>\n",
       "      <td>98.00</td>\n",
       "      <td>310.00</td>\n",
       "    </tr>\n",
       "    <tr>\n",
       "      <th>sales</th>\n",
       "      <td>200.91</td>\n",
       "      <td>201.00</td>\n",
       "      <td>49.56</td>\n",
       "      <td>96.00</td>\n",
       "      <td>310.00</td>\n",
       "    </tr>\n",
       "    <tr>\n",
       "      <th>support</th>\n",
       "      <td>200.76</td>\n",
       "      <td>200.00</td>\n",
       "      <td>50.02</td>\n",
       "      <td>96.00</td>\n",
       "      <td>310.00</td>\n",
       "    </tr>\n",
       "    <tr>\n",
       "      <th>technical</th>\n",
       "      <td>202.50</td>\n",
       "      <td>201.00</td>\n",
       "      <td>50.60</td>\n",
       "      <td>97.00</td>\n",
       "      <td>310.00</td>\n",
       "    </tr>\n",
       "    <tr>\n",
       "      <th>Total</th>\n",
       "      <td>2,007.63</td>\n",
       "      <td>1,997.00</td>\n",
       "      <td>498.45</td>\n",
       "      <td>969.00</td>\n",
       "      <td>3,093.00</td>\n",
       "    </tr>\n",
       "  </tbody>\n",
       "</table>\n",
       "</div>"
      ],
      "text/plain": [
       "                Mean   Median  Standard Deviation  Minimum  Maximum\n",
       "Department                                                         \n",
       "IT            202.22   199.00               50.69    96.00   308.00\n",
       "RandD         200.80   200.00               49.25    98.00   308.00\n",
       "accounting    201.16   199.00               51.11    97.00   310.00\n",
       "hr            198.68   197.00               50.37    98.00   310.00\n",
       "management    201.25   204.00               47.38    97.00   307.00\n",
       "marketing     199.39   198.00               49.36    96.00   310.00\n",
       "product_mng   199.97   198.00               50.11    98.00   310.00\n",
       "sales         200.91   201.00               49.56    96.00   310.00\n",
       "support       200.76   200.00               50.02    96.00   310.00\n",
       "technical     202.50   201.00               50.60    97.00   310.00\n",
       "Total       2,007.63 1,997.00              498.45   969.00 3,093.00"
      ]
     },
     "execution_count": 12,
     "metadata": {},
     "output_type": "execute_result"
    }
   ],
   "source": [
    "print(\"\\033[1m\"+'Average Monthly Hours: \\\n",
    "Summary Statistics by Department'+\"\\033[1m\")\n",
    "\n",
    "def summary_by_job():\n",
    "    pd.options.display.float_format = '{:,.2f}'.format\n",
    "    new = hr.groupby('Department')['average_monthly_hours']\\\n",
    "    .agg([\"mean\", \"median\", \"std\", \"min\", \"max\"])\n",
    "    new.loc['Total'] = new.sum(numeric_only=True, axis=0)\n",
    "    column_rename = {'mean': 'Mean', 'median': 'Median',\n",
    "                     'std': 'Standard Deviation',\\\n",
    "                     'min':'Minimum','max': 'Maximum'}\n",
    "    dfsummary = new.rename(columns = column_rename)\n",
    "    new\n",
    "    return dfsummary\n",
    "\n",
    "summary_by_job()"
   ]
  },
  {
   "cell_type": "code",
   "execution_count": 13,
   "metadata": {},
   "outputs": [
    {
     "name": "stdout",
     "output_type": "stream",
     "text": [
      "\u001b[1mSatisfaction by Department: Summary Statistics\u001b[1m\n"
     ]
    },
    {
     "data": {
      "text/html": [
       "<div>\n",
       "<style scoped>\n",
       "    .dataframe tbody tr th:only-of-type {\n",
       "        vertical-align: middle;\n",
       "    }\n",
       "\n",
       "    .dataframe tbody tr th {\n",
       "        vertical-align: top;\n",
       "    }\n",
       "\n",
       "    .dataframe thead th {\n",
       "        text-align: right;\n",
       "    }\n",
       "</style>\n",
       "<table border=\"1\" class=\"dataframe\">\n",
       "  <thead>\n",
       "    <tr style=\"text-align: right;\">\n",
       "      <th></th>\n",
       "      <th>Mean</th>\n",
       "      <th>Median</th>\n",
       "      <th>Standard Deviation</th>\n",
       "      <th>Minimum</th>\n",
       "      <th>Maximum</th>\n",
       "    </tr>\n",
       "    <tr>\n",
       "      <th>Department</th>\n",
       "      <th></th>\n",
       "      <th></th>\n",
       "      <th></th>\n",
       "      <th></th>\n",
       "      <th></th>\n",
       "    </tr>\n",
       "  </thead>\n",
       "  <tbody>\n",
       "    <tr>\n",
       "      <th>IT</th>\n",
       "      <td>0.62</td>\n",
       "      <td>0.66</td>\n",
       "      <td>0.25</td>\n",
       "      <td>0.09</td>\n",
       "      <td>1.00</td>\n",
       "    </tr>\n",
       "    <tr>\n",
       "      <th>RandD</th>\n",
       "      <td>0.62</td>\n",
       "      <td>0.65</td>\n",
       "      <td>0.25</td>\n",
       "      <td>0.09</td>\n",
       "      <td>1.00</td>\n",
       "    </tr>\n",
       "    <tr>\n",
       "      <th>accounting</th>\n",
       "      <td>0.58</td>\n",
       "      <td>0.61</td>\n",
       "      <td>0.26</td>\n",
       "      <td>0.09</td>\n",
       "      <td>1.00</td>\n",
       "    </tr>\n",
       "    <tr>\n",
       "      <th>hr</th>\n",
       "      <td>0.60</td>\n",
       "      <td>0.61</td>\n",
       "      <td>0.25</td>\n",
       "      <td>0.09</td>\n",
       "      <td>1.00</td>\n",
       "    </tr>\n",
       "    <tr>\n",
       "      <th>management</th>\n",
       "      <td>0.62</td>\n",
       "      <td>0.66</td>\n",
       "      <td>0.23</td>\n",
       "      <td>0.09</td>\n",
       "      <td>1.00</td>\n",
       "    </tr>\n",
       "    <tr>\n",
       "      <th>marketing</th>\n",
       "      <td>0.62</td>\n",
       "      <td>0.64</td>\n",
       "      <td>0.24</td>\n",
       "      <td>0.09</td>\n",
       "      <td>1.00</td>\n",
       "    </tr>\n",
       "    <tr>\n",
       "      <th>product_mng</th>\n",
       "      <td>0.62</td>\n",
       "      <td>0.64</td>\n",
       "      <td>0.24</td>\n",
       "      <td>0.09</td>\n",
       "      <td>1.00</td>\n",
       "    </tr>\n",
       "    <tr>\n",
       "      <th>sales</th>\n",
       "      <td>0.61</td>\n",
       "      <td>0.64</td>\n",
       "      <td>0.25</td>\n",
       "      <td>0.09</td>\n",
       "      <td>1.00</td>\n",
       "    </tr>\n",
       "    <tr>\n",
       "      <th>support</th>\n",
       "      <td>0.62</td>\n",
       "      <td>0.65</td>\n",
       "      <td>0.25</td>\n",
       "      <td>0.09</td>\n",
       "      <td>1.00</td>\n",
       "    </tr>\n",
       "    <tr>\n",
       "      <th>technical</th>\n",
       "      <td>0.61</td>\n",
       "      <td>0.64</td>\n",
       "      <td>0.25</td>\n",
       "      <td>0.09</td>\n",
       "      <td>1.00</td>\n",
       "    </tr>\n",
       "    <tr>\n",
       "      <th>Total</th>\n",
       "      <td>6.12</td>\n",
       "      <td>6.40</td>\n",
       "      <td>2.46</td>\n",
       "      <td>0.90</td>\n",
       "      <td>10.00</td>\n",
       "    </tr>\n",
       "  </tbody>\n",
       "</table>\n",
       "</div>"
      ],
      "text/plain": [
       "             Mean  Median  Standard Deviation  Minimum  Maximum\n",
       "Department                                                     \n",
       "IT           0.62    0.66                0.25     0.09     1.00\n",
       "RandD        0.62    0.65                0.25     0.09     1.00\n",
       "accounting   0.58    0.61                0.26     0.09     1.00\n",
       "hr           0.60    0.61                0.25     0.09     1.00\n",
       "management   0.62    0.66                0.23     0.09     1.00\n",
       "marketing    0.62    0.64                0.24     0.09     1.00\n",
       "product_mng  0.62    0.64                0.24     0.09     1.00\n",
       "sales        0.61    0.64                0.25     0.09     1.00\n",
       "support      0.62    0.65                0.25     0.09     1.00\n",
       "technical    0.61    0.64                0.25     0.09     1.00\n",
       "Total        6.12    6.40                2.46     0.90    10.00"
      ]
     },
     "execution_count": 13,
     "metadata": {},
     "output_type": "execute_result"
    }
   ],
   "source": [
    "print(\"\\033[1m\"+'Satisfaction by Department: \\\n",
    "Summary Statistics'+\"\\033[1m\")\n",
    "\n",
    "def satisfaction_by_job():\n",
    "    pd.options.display.float_format = '{:,.2f}'.format\n",
    "    new2 = hr.groupby('Department')['satisfaction_level']\\\n",
    "    .agg([\"mean\", \"median\", \"std\", \"min\", \"max\"])\n",
    "    new2.loc['Total'] = new2.sum(numeric_only=True, axis=0)\n",
    "    column_rename = {'mean': 'Mean', 'median': 'Median',\n",
    "                     'std': 'Standard Deviation',\\\n",
    "                     'min':'Minimum','max': 'Maximum'}\n",
    "    dfsummary = new2.rename(columns = column_rename)\n",
    "    new2\n",
    "    return dfsummary\n",
    "satisfaction_by_job()"
   ]
  },
  {
   "cell_type": "code",
   "execution_count": 14,
   "metadata": {},
   "outputs": [
    {
     "name": "stdout",
     "output_type": "stream",
     "text": [
      "\u001b[1mAttrition Outcome by Department\u001b[1m\n"
     ]
    },
    {
     "data": {
      "text/html": [
       "<style  type=\"text/css\" >\n",
       "</style><table id=\"T_5dad0e4f_2207_11ec_8a88_ccd9accdbd32\" ><thead>    <tr>        <th class=\"blank level0\" ></th>        <th class=\"col_heading level0 col0\" >Stayed</th>        <th class=\"col_heading level0 col1\" >Left</th>        <th class=\"col_heading level0 col2\" ># of Employees</th>        <th class=\"col_heading level0 col3\" >% Retention</th>    </tr>    <tr>        <th class=\"index_name level0\" >Department</th>        <th class=\"blank\" ></th>        <th class=\"blank\" ></th>        <th class=\"blank\" ></th>        <th class=\"blank\" ></th>    </tr></thead><tbody>\n",
       "                <tr>\n",
       "                        <th id=\"T_5dad0e4f_2207_11ec_8a88_ccd9accdbd32level0_row0\" class=\"row_heading level0 row0\" >IT</th>\n",
       "                        <td id=\"T_5dad0e4f_2207_11ec_8a88_ccd9accdbd32row0_col0\" class=\"data row0 col0\" >954</td>\n",
       "                        <td id=\"T_5dad0e4f_2207_11ec_8a88_ccd9accdbd32row0_col1\" class=\"data row0 col1\" >273</td>\n",
       "                        <td id=\"T_5dad0e4f_2207_11ec_8a88_ccd9accdbd32row0_col2\" class=\"data row0 col2\" >1,227</td>\n",
       "                        <td id=\"T_5dad0e4f_2207_11ec_8a88_ccd9accdbd32row0_col3\" class=\"data row0 col3\" >78</td>\n",
       "            </tr>\n",
       "            <tr>\n",
       "                        <th id=\"T_5dad0e4f_2207_11ec_8a88_ccd9accdbd32level0_row1\" class=\"row_heading level0 row1\" >RandD</th>\n",
       "                        <td id=\"T_5dad0e4f_2207_11ec_8a88_ccd9accdbd32row1_col0\" class=\"data row1 col0\" >666</td>\n",
       "                        <td id=\"T_5dad0e4f_2207_11ec_8a88_ccd9accdbd32row1_col1\" class=\"data row1 col1\" >121</td>\n",
       "                        <td id=\"T_5dad0e4f_2207_11ec_8a88_ccd9accdbd32row1_col2\" class=\"data row1 col2\" >787</td>\n",
       "                        <td id=\"T_5dad0e4f_2207_11ec_8a88_ccd9accdbd32row1_col3\" class=\"data row1 col3\" >85</td>\n",
       "            </tr>\n",
       "            <tr>\n",
       "                        <th id=\"T_5dad0e4f_2207_11ec_8a88_ccd9accdbd32level0_row2\" class=\"row_heading level0 row2\" >accounting</th>\n",
       "                        <td id=\"T_5dad0e4f_2207_11ec_8a88_ccd9accdbd32row2_col0\" class=\"data row2 col0\" >563</td>\n",
       "                        <td id=\"T_5dad0e4f_2207_11ec_8a88_ccd9accdbd32row2_col1\" class=\"data row2 col1\" >204</td>\n",
       "                        <td id=\"T_5dad0e4f_2207_11ec_8a88_ccd9accdbd32row2_col2\" class=\"data row2 col2\" >767</td>\n",
       "                        <td id=\"T_5dad0e4f_2207_11ec_8a88_ccd9accdbd32row2_col3\" class=\"data row2 col3\" >73</td>\n",
       "            </tr>\n",
       "            <tr>\n",
       "                        <th id=\"T_5dad0e4f_2207_11ec_8a88_ccd9accdbd32level0_row3\" class=\"row_heading level0 row3\" >hr</th>\n",
       "                        <td id=\"T_5dad0e4f_2207_11ec_8a88_ccd9accdbd32row3_col0\" class=\"data row3 col0\" >524</td>\n",
       "                        <td id=\"T_5dad0e4f_2207_11ec_8a88_ccd9accdbd32row3_col1\" class=\"data row3 col1\" >215</td>\n",
       "                        <td id=\"T_5dad0e4f_2207_11ec_8a88_ccd9accdbd32row3_col2\" class=\"data row3 col2\" >739</td>\n",
       "                        <td id=\"T_5dad0e4f_2207_11ec_8a88_ccd9accdbd32row3_col3\" class=\"data row3 col3\" >71</td>\n",
       "            </tr>\n",
       "            <tr>\n",
       "                        <th id=\"T_5dad0e4f_2207_11ec_8a88_ccd9accdbd32level0_row4\" class=\"row_heading level0 row4\" >management</th>\n",
       "                        <td id=\"T_5dad0e4f_2207_11ec_8a88_ccd9accdbd32row4_col0\" class=\"data row4 col0\" >539</td>\n",
       "                        <td id=\"T_5dad0e4f_2207_11ec_8a88_ccd9accdbd32row4_col1\" class=\"data row4 col1\" >91</td>\n",
       "                        <td id=\"T_5dad0e4f_2207_11ec_8a88_ccd9accdbd32row4_col2\" class=\"data row4 col2\" >630</td>\n",
       "                        <td id=\"T_5dad0e4f_2207_11ec_8a88_ccd9accdbd32row4_col3\" class=\"data row4 col3\" >86</td>\n",
       "            </tr>\n",
       "            <tr>\n",
       "                        <th id=\"T_5dad0e4f_2207_11ec_8a88_ccd9accdbd32level0_row5\" class=\"row_heading level0 row5\" >marketing</th>\n",
       "                        <td id=\"T_5dad0e4f_2207_11ec_8a88_ccd9accdbd32row5_col0\" class=\"data row5 col0\" >655</td>\n",
       "                        <td id=\"T_5dad0e4f_2207_11ec_8a88_ccd9accdbd32row5_col1\" class=\"data row5 col1\" >203</td>\n",
       "                        <td id=\"T_5dad0e4f_2207_11ec_8a88_ccd9accdbd32row5_col2\" class=\"data row5 col2\" >858</td>\n",
       "                        <td id=\"T_5dad0e4f_2207_11ec_8a88_ccd9accdbd32row5_col3\" class=\"data row5 col3\" >76</td>\n",
       "            </tr>\n",
       "            <tr>\n",
       "                        <th id=\"T_5dad0e4f_2207_11ec_8a88_ccd9accdbd32level0_row6\" class=\"row_heading level0 row6\" >product_mng</th>\n",
       "                        <td id=\"T_5dad0e4f_2207_11ec_8a88_ccd9accdbd32row6_col0\" class=\"data row6 col0\" >704</td>\n",
       "                        <td id=\"T_5dad0e4f_2207_11ec_8a88_ccd9accdbd32row6_col1\" class=\"data row6 col1\" >198</td>\n",
       "                        <td id=\"T_5dad0e4f_2207_11ec_8a88_ccd9accdbd32row6_col2\" class=\"data row6 col2\" >902</td>\n",
       "                        <td id=\"T_5dad0e4f_2207_11ec_8a88_ccd9accdbd32row6_col3\" class=\"data row6 col3\" >78</td>\n",
       "            </tr>\n",
       "            <tr>\n",
       "                        <th id=\"T_5dad0e4f_2207_11ec_8a88_ccd9accdbd32level0_row7\" class=\"row_heading level0 row7\" >sales</th>\n",
       "                        <td id=\"T_5dad0e4f_2207_11ec_8a88_ccd9accdbd32row7_col0\" class=\"data row7 col0\" >3,126</td>\n",
       "                        <td id=\"T_5dad0e4f_2207_11ec_8a88_ccd9accdbd32row7_col1\" class=\"data row7 col1\" >1,014</td>\n",
       "                        <td id=\"T_5dad0e4f_2207_11ec_8a88_ccd9accdbd32row7_col2\" class=\"data row7 col2\" >4,140</td>\n",
       "                        <td id=\"T_5dad0e4f_2207_11ec_8a88_ccd9accdbd32row7_col3\" class=\"data row7 col3\" >76</td>\n",
       "            </tr>\n",
       "            <tr>\n",
       "                        <th id=\"T_5dad0e4f_2207_11ec_8a88_ccd9accdbd32level0_row8\" class=\"row_heading level0 row8\" >support</th>\n",
       "                        <td id=\"T_5dad0e4f_2207_11ec_8a88_ccd9accdbd32row8_col0\" class=\"data row8 col0\" >1,674</td>\n",
       "                        <td id=\"T_5dad0e4f_2207_11ec_8a88_ccd9accdbd32row8_col1\" class=\"data row8 col1\" >555</td>\n",
       "                        <td id=\"T_5dad0e4f_2207_11ec_8a88_ccd9accdbd32row8_col2\" class=\"data row8 col2\" >2,229</td>\n",
       "                        <td id=\"T_5dad0e4f_2207_11ec_8a88_ccd9accdbd32row8_col3\" class=\"data row8 col3\" >75</td>\n",
       "            </tr>\n",
       "            <tr>\n",
       "                        <th id=\"T_5dad0e4f_2207_11ec_8a88_ccd9accdbd32level0_row9\" class=\"row_heading level0 row9\" >technical</th>\n",
       "                        <td id=\"T_5dad0e4f_2207_11ec_8a88_ccd9accdbd32row9_col0\" class=\"data row9 col0\" >2,023</td>\n",
       "                        <td id=\"T_5dad0e4f_2207_11ec_8a88_ccd9accdbd32row9_col1\" class=\"data row9 col1\" >697</td>\n",
       "                        <td id=\"T_5dad0e4f_2207_11ec_8a88_ccd9accdbd32row9_col2\" class=\"data row9 col2\" >2,720</td>\n",
       "                        <td id=\"T_5dad0e4f_2207_11ec_8a88_ccd9accdbd32row9_col3\" class=\"data row9 col3\" >74</td>\n",
       "            </tr>\n",
       "            <tr>\n",
       "                        <th id=\"T_5dad0e4f_2207_11ec_8a88_ccd9accdbd32level0_row10\" class=\"row_heading level0 row10\" >Total</th>\n",
       "                        <td id=\"T_5dad0e4f_2207_11ec_8a88_ccd9accdbd32row10_col0\" class=\"data row10 col0\" >11,428</td>\n",
       "                        <td id=\"T_5dad0e4f_2207_11ec_8a88_ccd9accdbd32row10_col1\" class=\"data row10 col1\" >3,571</td>\n",
       "                        <td id=\"T_5dad0e4f_2207_11ec_8a88_ccd9accdbd32row10_col2\" class=\"data row10 col2\" >14,999</td>\n",
       "                        <td id=\"T_5dad0e4f_2207_11ec_8a88_ccd9accdbd32row10_col3\" class=\"data row10 col3\" >76</td>\n",
       "            </tr>\n",
       "    </tbody></table>"
      ],
      "text/plain": [
       "<pandas.io.formats.style.Styler at 0x20af8512eb0>"
      ]
     },
     "execution_count": 14,
     "metadata": {},
     "output_type": "execute_result"
    }
   ],
   "source": [
    "print(\"\\033[1m\"+'Attrition Outcome by Department'+\"\\033[1m\")\n",
    "\n",
    "def ret_by_dept():\n",
    "    dept_ret_stayed = hr.loc[hr.Status == 'stayed'].groupby\\\n",
    "    (['Department'])[['Status']].count()\n",
    "    dept_ret_stayed.rename(columns={'Status':'Stayed'}, inplace=True)\n",
    "    dept_ret_left = hr.loc[hr.Status == 'left'].groupby\\\n",
    "    (['Department'])[['Status']].count()\n",
    "    dept_ret_left.rename(columns={'Status':'Left'}, inplace=True)\n",
    "    merged_df = pd.concat([dept_ret_stayed, dept_ret_left], axis = 1)\n",
    "    merged_df.loc['Total'] = merged_df.sum(numeric_only=True, axis=0)\n",
    "    merged_df['# of Employees'] = merged_df.sum(axis=1)\n",
    "    merged_df['% Retention'] = round((merged_df['Stayed'] / \\\n",
    "    (merged_df['Stayed'] + merged_df['Left']))* 100, 2)\n",
    "    return merged_df.style.format(\"{:,.0f}\")\n",
    "\n",
    "ret_by_dept()"
   ]
  },
  {
   "cell_type": "markdown",
   "metadata": {},
   "source": [
    "**The ensuing bar graphs measure interdepartmental attrition. For example, sales has the highest attrition (employees who left), but also the highest retention (those who stayed). Normalizing this dsitribution, we see an uptick in hr department attrition in terms of rate, but a higher retention rate too. Sales, support, and technical departments remain at about equal attrition rates, and high retention across the board.**"
   ]
  },
  {
   "cell_type": "code",
   "execution_count": 15,
   "metadata": {},
   "outputs": [
    {
     "data": {
      "image/png": "[encoded data removed]",
      "text/plain": [
       "<Figure size 864x576 with 2 Axes>"
      ]
     },
     "metadata": {
      "needs_background": "light"
     },
     "output_type": "display_data"
    }
   ],
   "source": [
    "fig = plt.figure(figsize=(12,8))\n",
    "ax1 = fig.add_subplot(221)\n",
    "ax2 = fig.add_subplot(222)\n",
    "fig.suptitle('Absolute vs. Normalized Distributions')\n",
    "\n",
    "crosstabdept = pd.crosstab(hr['Department'],hr['Status'])\n",
    "crosstabdeptnorm = crosstabdept.div(crosstabdept.sum(1), axis = 0)\n",
    "\n",
    "plotdest = crosstabdept.plot(kind='bar', stacked = True, \n",
    "                            title = 'Department and Attrition Status', \n",
    "                            ax = ax1, color = ['#90CDBC', '#991857'])\n",
    "\n",
    "plotdeptnorm = crosstabdeptnorm.plot(kind='bar', stacked = True, \n",
    "                                     title = 'Department and'\n",
    "                                     ' Attrition Status - Normalized', \n",
    "                                     ax = ax2, color = ['#90CDBC', \n",
    "                                                        '#991857'])"
   ]
  },
  {
   "cell_type": "markdown",
   "metadata": {},
   "source": [
    "**The ensuing bar graphs measure attrition by salary. For example, there exists a higher prevalance in lower salaries than medium and higher salaries, respectively. Among the lower salaries, more employees stayed within the company than those who left. Normalizing the distribution, we see the same trends; however, in terms of attrition rates, the lowest among the three categories is evident in the higher salaries. Lower salaries show the highest attrition rate, and medium salaries follow.**"
   ]
  },
  {
   "cell_type": "code",
   "execution_count": 16,
   "metadata": {},
   "outputs": [
    {
     "data": {
      "image/png": "[encoded data removed]",
      "text/plain": [
       "<Figure size 864x576 with 2 Axes>"
      ]
     },
     "metadata": {
      "needs_background": "light"
     },
     "output_type": "display_data"
    }
   ],
   "source": [
    "fig = plt.figure(figsize=(12,8))\n",
    "ax1 = fig.add_subplot(221)\n",
    "ax2 = fig.add_subplot(222)\n",
    "fig.suptitle('Absolute vs. Normalized Distributions')\n",
    "\n",
    "crosstabsal = pd.crosstab(hr['salary'],hr['Status'])\n",
    "crosstabsalnorm = crosstabsal.div(crosstabsal.sum(1), axis = 0)\n",
    "\n",
    "plotdest = crosstabsal.plot(kind='bar', stacked = True, \n",
    "                            title = 'Salary and Attrition Status', \n",
    "                            ax = ax1, color = ['#90CDBC', '#991857'])\n",
    "\n",
    "plotsalnorm = crosstabsalnorm.plot(kind='bar', stacked = True, \n",
    "                                     title = 'Salary and Attrition' \n",
    "                                     ' Status - Normalized', \n",
    "                                     ax = ax2, color = ['#90CDBC', \n",
    "                                                        '#991857'])"
   ]
  },
  {
   "cell_type": "code",
   "execution_count": 17,
   "metadata": {},
   "outputs": [
    {
     "name": "stdout",
     "output_type": "stream",
     "text": [
      "\u001b[1mBoxplot Distributions\u001b[1m\n"
     ]
    },
    {
     "data": {
      "image/png": "[encoded data removed]",
      "text/plain": [
       "<Figure size 576x288 with 1 Axes>"
      ]
     },
     "metadata": {
      "needs_background": "light"
     },
     "output_type": "display_data"
    },
    {
     "name": "stdout",
     "output_type": "stream",
     "text": [
      "The first quartile is 156.0. \n",
      "The third quartile is 245.0. \n",
      "The IQR is 89.0.\n",
      "The mean is 201.05.\n",
      "The standard deviation is 49.94.\n",
      "The median is 200.0.\n"
     ]
    },
    {
     "data": {
      "image/png": "[encoded data removed]",
      "text/plain": [
       "<Figure size 576x288 with 1 Axes>"
      ]
     },
     "metadata": {
      "needs_background": "light"
     },
     "output_type": "display_data"
    },
    {
     "name": "stdout",
     "output_type": "stream",
     "text": [
      "The first quartile is 0.56. \n",
      "The third quartile is 0.87. \n",
      "The IQR is 0.31.\n",
      "The mean is 0.72.\n",
      "The standard deviation is 0.17.\n",
      "The median is 0.72.\n"
     ]
    },
    {
     "data": {
      "image/png": "[encoded data removed]",
      "text/plain": [
       "<Figure size 576x288 with 1 Axes>"
      ]
     },
     "metadata": {
      "needs_background": "light"
     },
     "output_type": "display_data"
    },
    {
     "name": "stdout",
     "output_type": "stream",
     "text": [
      "The first quartile is 0.44. \n",
      "The third quartile is 0.82. \n",
      "The IQR is 0.38.\n",
      "The mean is 0.61.\n",
      "The standard deviation is 0.25.\n",
      "The median is 0.64.\n"
     ]
    }
   ],
   "source": [
    "print(\"\\033[1m\"+'Boxplot Distributions'+\"\\033[1m\")\n",
    "# Boxplot of age as one way of showing distribution\n",
    "fig = plt.figure(figsize = (8,4))\n",
    "plt.title ('Boxplot: Average Monthly Hours',\n",
    "          fontsize=12)\n",
    "plt.xlabel('Average Monthly Hours', fontsize=12)\n",
    "plt.ylabel('Employees', fontsize=12)\n",
    "\n",
    "sns.boxplot(data=hr['average_monthly_hours'], \n",
    "            palette=\"coolwarm\", orient='h', linewidth=2.5)\n",
    "plt.show()\n",
    "\n",
    "# Computing IQR\n",
    "Q1 = hr['average_monthly_hours'].quantile(0.25)\n",
    "Q3 = hr['average_monthly_hours'].quantile(0.75)\n",
    "IQR = Q3-Q1\n",
    "\n",
    "# Computing Summary Statistics\n",
    "mean_1 = round(hr['average_monthly_hours'].mean(),2)\n",
    "std_1 = round(hr['average_monthly_hours'].std(),2)\n",
    "median_1 = round(hr['average_monthly_hours'].median(),2)\n",
    "print('The first quartile is %s. '%Q1)\n",
    "print('The third quartile is %s. '%Q3)\n",
    "print('The IQR is %s.'%round(IQR,2))\n",
    "print('The mean is %s.'%mean_1)\n",
    "print('The standard deviation is %s.'%std_1)\n",
    "print('The median is %s.'%median_1)\n",
    "\n",
    "# Boxplot of age as one way of showing distribution\n",
    "fig = plt.figure(figsize = (8,4))\n",
    "plt.title ('Boxplot: Last Evaluation',\n",
    "          fontsize=12)\n",
    "plt.xlabel('Last Evaluation', fontsize=12)\n",
    "plt.ylabel('Employees', fontsize=12)\n",
    "\n",
    "sns.boxplot(data=hr['last_evaluation'], \n",
    "            palette=\"coolwarm\", orient='h', linewidth=2.5)\n",
    "plt.show()\n",
    "\n",
    "# Computing IQR\n",
    "Q1 = hr['last_evaluation'].quantile(0.25)\n",
    "Q3 = hr['last_evaluation'].quantile(0.75)\n",
    "IQR = Q3-Q1\n",
    "\n",
    "# Computing Summary Statistics\n",
    "mean_1 = round(hr['last_evaluation'].mean(),2)\n",
    "std_1 = round(hr['last_evaluation'].std(),2)\n",
    "median_1 = round(hr['last_evaluation'].median(),2)\n",
    "print('The first quartile is %s. '%Q1)\n",
    "print('The third quartile is %s. '%Q3)\n",
    "print('The IQR is %s.'%round(IQR,2))\n",
    "print('The mean is %s.'%mean_1)\n",
    "print('The standard deviation is %s.'%std_1)\n",
    "print('The median is %s.'%median_1)\n",
    "\n",
    "# Boxplot of age as one way of showing distribution\n",
    "fig = plt.figure(figsize = (8,4))\n",
    "plt.title ('Boxplot: Satisfaction Level',\n",
    "          fontsize=12)\n",
    "plt.xlabel('Satisfaction Level', fontsize=12)\n",
    "plt.ylabel('Employees', fontsize=12)\n",
    "\n",
    "sns.boxplot(data=hr['satisfaction_level'], \n",
    "            palette=\"coolwarm\", orient='h', linewidth=2.5)\n",
    "plt.show()\n",
    "\n",
    "# Computing IQR\n",
    "Q1 = hr['satisfaction_level'].quantile(0.25)\n",
    "Q3 = hr['satisfaction_level'].quantile(0.75)\n",
    "IQR = Q3-Q1\n",
    "\n",
    "# Computing Summary Statistics\n",
    "mean_1 = round(hr['satisfaction_level'].mean(),2)\n",
    "std_1 = round(hr['satisfaction_level'].std(),2)\n",
    "median_1 = round(hr['satisfaction_level'].median(),2)\n",
    "print('The first quartile is %s. '%Q1)\n",
    "print('The third quartile is %s. '%Q3)\n",
    "print('The IQR is %s.'%round(IQR,2))\n",
    "print('The mean is %s.'%mean_1)\n",
    "print('The standard deviation is %s.'%std_1)\n",
    "print('The median is %s.'%median_1)\n"
   ]
  },
  {
   "cell_type": "code",
   "execution_count": 18,
   "metadata": {},
   "outputs": [
    {
     "name": "stdout",
     "output_type": "stream",
     "text": [
      "\u001b[1mHistogram Distribution\u001b[1m\n"
     ]
    },
    {
     "data": {
      "image/png": "[encoded data removed]",
      "text/plain": [
       "<Figure size 576x288 with 1 Axes>"
      ]
     },
     "metadata": {
      "needs_background": "light"
     },
     "output_type": "display_data"
    },
    {
     "name": "stdout",
     "output_type": "stream",
     "text": [
      "The first quartile is 156.0. \n",
      "The third quartile is 245.0. \n",
      "The IQR is 89.0.\n",
      "The mean is 201.05.\n",
      "The standard deviation is 49.94.\n",
      "The median is 200.0.\n"
     ]
    },
    {
     "data": {
      "image/png": "[encoded data removed]",
      "text/plain": [
       "<Figure size 576x288 with 1 Axes>"
      ]
     },
     "metadata": {
      "needs_background": "light"
     },
     "output_type": "display_data"
    },
    {
     "name": "stdout",
     "output_type": "stream",
     "text": [
      "The first quartile is 0.56. \n",
      "The third quartile is 0.87. \n",
      "The IQR is 0.31.\n",
      "The mean is 0.72.\n",
      "The standard deviation is 0.17.\n",
      "The median is 0.72.\n"
     ]
    },
    {
     "data": {
      "image/png": "[encoded data removed]",
      "text/plain": [
       "<Figure size 576x288 with 1 Axes>"
      ]
     },
     "metadata": {
      "needs_background": "light"
     },
     "output_type": "display_data"
    },
    {
     "name": "stdout",
     "output_type": "stream",
     "text": [
      "The first quartile is 0.44. \n",
      "The third quartile is 0.82. \n",
      "The IQR is 0.38.\n",
      "The mean is 0.61.\n",
      "The standard deviation is 0.25.\n",
      "The median is 0.64.\n"
     ]
    }
   ],
   "source": [
    "print(\"\\033[1m\"+'Histogram Distribution'+\"\\033[1m\")\n",
    "# Plotting a histogram to show distribution\n",
    "fig = plt.figure(figsize = (8,4))\n",
    "plt.hist(hr['average_monthly_hours'], bins=10, \n",
    "         color='steelblue', alpha=0.9, rwidth=.97)\n",
    "plt.title ('Average Monthly Hours Distribution', fontsize=12)\n",
    "plt.xlabel('Average Monthly Hours', fontsize=12) \n",
    "plt.ylabel('Count', fontsize=12)\n",
    "plt.show()\n",
    "\n",
    "# Computing IQR\n",
    "Q1 = hr['average_monthly_hours'].quantile(0.25)\n",
    "Q3 = hr['average_monthly_hours'].quantile(0.75)\n",
    "IQR = Q3-Q1\n",
    "\n",
    "# Computing Summary Statistics\n",
    "mean_1 = round(hr['average_monthly_hours'].mean(),2)\n",
    "std_1 = round(hr['average_monthly_hours'].std(),2)\n",
    "median_1 = round(hr['average_monthly_hours'].median(),2)\n",
    "print('The first quartile is %s. '%Q1)\n",
    "print('The third quartile is %s. '%Q3)\n",
    "print('The IQR is %s.'%round(IQR,2))\n",
    "print('The mean is %s.'%mean_1)\n",
    "print('The standard deviation is %s.'%std_1)\n",
    "print('The median is %s.'%median_1)\n",
    "\n",
    "fig = plt.figure(figsize = (8,4))\n",
    "plt.hist(hr['last_evaluation'], bins=10, \n",
    "         color='steelblue', alpha=0.9, rwidth=.97)\n",
    "plt.title ('Last Evaluation Distribution', fontsize=12)\n",
    "plt.xlabel('Last Evaluation', fontsize=12) \n",
    "plt.ylabel('Count', fontsize=12)\n",
    "plt.show()\n",
    "\n",
    "# Computing IQR\n",
    "Q1_1 = hr['last_evaluation'].quantile(0.25)\n",
    "Q3_1 = hr['last_evaluation'].quantile(0.75)\n",
    "IQR_1 = Q3_1-Q1_1\n",
    "\n",
    "# Computing Summary Statistics\n",
    "mean_1_1 = round(hr['last_evaluation'].mean(),2)\n",
    "std_1_1 = round(hr['last_evaluation'].std(),2)\n",
    "median_1_1 = round(hr['last_evaluation'].median(),2)\n",
    "print('The first quartile is %s. '%Q1_1)\n",
    "print('The third quartile is %s. '%Q3_1)\n",
    "print('The IQR is %s.'%round(IQR_1,2))\n",
    "print('The mean is %s.'%mean_1_1)\n",
    "print('The standard deviation is %s.'%std_1_1)\n",
    "print('The median is %s.'%median_1_1)\n",
    "\n",
    "fig = plt.figure(figsize = (8,4))\n",
    "plt.hist(hr['satisfaction_level'], bins=10, \n",
    "         color='steelblue', alpha=0.9, rwidth=.97)\n",
    "plt.title ('Satisfaction Distribution', fontsize=12)\n",
    "plt.xlabel('Last Evaluation', fontsize=12) \n",
    "plt.ylabel('Count', fontsize=12)\n",
    "plt.show()\n",
    "\n",
    "# Computing IQR\n",
    "Q1_2 = hr['satisfaction_level'].quantile(0.25)\n",
    "Q3_2 = hr['satisfaction_level'].quantile(0.75)\n",
    "IQR_2 = Q3_2-Q1_2\n",
    "\n",
    "# Computing Summary Statistics\n",
    "mean_1_2 = round(hr['satisfaction_level'].mean(),2)\n",
    "std_1_2 = round(hr['satisfaction_level'].std(),2)\n",
    "median_1_2 = round(hr['satisfaction_level'].median(),2)\n",
    "print('The first quartile is %s. '%Q1_2)\n",
    "print('The third quartile is %s. '%Q3_2)\n",
    "print('The IQR is %s.'%round(IQR_2,2))\n",
    "print('The mean is %s.'%mean_1_2)\n",
    "print('The standard deviation is %s.'%std_1_2)\n",
    "print('The median is %s.'%median_1_2)"
   ]
  },
  {
   "cell_type": "markdown",
   "metadata": {},
   "source": [
    "**All of the examined distributions are normal.**"
   ]
  },
  {
   "cell_type": "code",
   "execution_count": 19,
   "metadata": {},
   "outputs": [
    {
     "data": {
      "image/png": "[encoded data removed]",
      "text/plain": [
       "<Figure size 576x288 with 1 Axes>"
      ]
     },
     "metadata": {
      "needs_background": "light"
     },
     "output_type": "display_data"
    },
    {
     "name": "stdout",
     "output_type": "stream",
     "text": [
      "# of Employees that Stayed: 11428\n",
      "# of Employees that Left: 3571\n",
      "Attrition: 0.24\n"
     ]
    }
   ],
   "source": [
    "attrition_count = hr['Attrition'].value_counts()\n",
    "fig = plt.figure(figsize=(8,4))\n",
    "attrition_count.plot.bar(x ='lab', y='val', rot=0, width=0.99, \n",
    "                         color=\"steelblue\")\n",
    "plt.title ('Employee Attrition: Stayed vs. Left', fontsize=12)\n",
    "plt.xlabel('Employee Attrition', fontsize=12) \n",
    "plt.ylabel('Count', fontsize=12)\n",
    "plt.show()\n",
    "\n",
    "attrition_yes = attrition_count[1]\n",
    "attrition_no = attrition_count[0]\n",
    "attrition_rate = attrition_yes/(attrition_no + attrition_yes)\n",
    "\n",
    "print('# of Employees that Stayed:', attrition_no)\n",
    "print('# of Employees that Left:', attrition_yes)\n",
    "print('Attrition:', round(attrition_rate,2))"
   ]
  },
  {
   "cell_type": "markdown",
   "metadata": {},
   "source": [
    "## Pre-Processing"
   ]
  },
  {
   "cell_type": "code",
   "execution_count": 20,
   "metadata": {},
   "outputs": [],
   "source": [
    "hr['salary_level'] = hr['salary'].map({'low':1,\n",
    "                                       'medium':2, \n",
    "                                       'high':3})\n",
    "# drop unnecessary columns\n",
    "hr=hr.drop(columns=['Employee_ID','salary','Status', 'Department'])"
   ]
  },
  {
   "cell_type": "markdown",
   "metadata": {},
   "source": [
    "**Generalized Linear Model - Logistic Regression Baseline**"
   ]
  },
  {
   "cell_type": "markdown",
   "metadata": {},
   "source": [
    "$$y = \\beta_0 + \\beta_1x_1 +\\beta_2x_2 +\\cdots+\\beta_px_p + \\varepsilon$$"
   ]
  },
  {
   "cell_type": "markdown",
   "metadata": {},
   "source": [
    "**Logistic Regression - Parametric Form**"
   ]
  },
  {
   "cell_type": "markdown",
   "metadata": {},
   "source": [
    "$$p(y) = \\frac{\\text{exp}(\\beta_0+\\beta_1x_1+\\beta_2x_2+\\cdot\\cdot\\cdot+\\beta_px_p)}{1+\\text{exp}(\\beta_0+\\beta_1x_1+\\beta_2x_2+\\cdot\\cdot\\cdot+\\beta_px_p)}  + \\varepsilon$$"
   ]
  },
  {
   "cell_type": "markdown",
   "metadata": {},
   "source": [
    "**Logistic Regression - Descriptive Form**"
   ]
  },
  {
   "cell_type": "markdown",
   "metadata": {},
   "source": [
    "$$\\hat{p}(y) = \\frac{\\text{exp}(b_0+b_1x_1+b_2x_2+\\cdot\\cdot\\cdot+b_px_p)}{1+\\text{exp}(b_0+b_1x_1+b_2x_2+\\cdot\\cdot\\cdot+b_px_p)}$$"
   ]
  },
  {
   "cell_type": "code",
   "execution_count": 21,
   "metadata": {},
   "outputs": [
    {
     "name": "stdout",
     "output_type": "stream",
     "text": [
      "Optimization terminated successfully.\n",
      "         Current function value: 0.431823\n",
      "         Iterations 7\n"
     ]
    },
    {
     "data": {
      "text/html": [
       "<table class=\"simpletable\">\n",
       "<caption>Logit Regression Results</caption>\n",
       "<tr>\n",
       "  <th>Dep. Variable:</th>       <td>Attrition</td>    <th>  No. Observations:  </th>  <td> 14999</td> \n",
       "</tr>\n",
       "<tr>\n",
       "  <th>Model:</th>                 <td>Logit</td>      <th>  Df Residuals:      </th>  <td> 14990</td> \n",
       "</tr>\n",
       "<tr>\n",
       "  <th>Method:</th>                 <td>MLE</td>       <th>  Df Model:          </th>  <td>     8</td> \n",
       "</tr>\n",
       "<tr>\n",
       "  <th>Date:</th>            <td>Thu, 30 Sep 2021</td> <th>  Pseudo R-squ.:     </th>  <td>0.2132</td> \n",
       "</tr>\n",
       "<tr>\n",
       "  <th>Time:</th>                <td>08:59:18</td>     <th>  Log-Likelihood:    </th> <td> -6476.9</td>\n",
       "</tr>\n",
       "<tr>\n",
       "  <th>converged:</th>             <td>True</td>       <th>  LL-Null:           </th> <td> -8232.3</td>\n",
       "</tr>\n",
       "<tr>\n",
       "  <th>Covariance Type:</th>     <td>nonrobust</td>    <th>  LLR p-value:       </th>  <td> 0.000</td> \n",
       "</tr>\n",
       "</table>\n",
       "<table class=\"simpletable\">\n",
       "<tr>\n",
       "            <td></td>               <th>coef</th>     <th>std err</th>      <th>z</th>      <th>P>|z|</th>  <th>[0.025</th>    <th>0.975]</th>  \n",
       "</tr>\n",
       "<tr>\n",
       "  <th>const</th>                 <td>    1.2098</td> <td>    0.129</td> <td>    9.382</td> <td> 0.000</td> <td>    0.957</td> <td>    1.463</td>\n",
       "</tr>\n",
       "<tr>\n",
       "  <th>satisfaction_level</th>    <td>   -4.1235</td> <td>    0.098</td> <td>  -42.285</td> <td> 0.000</td> <td>   -4.315</td> <td>   -3.932</td>\n",
       "</tr>\n",
       "<tr>\n",
       "  <th>last_evaluation</th>       <td>    0.7249</td> <td>    0.148</td> <td>    4.885</td> <td> 0.000</td> <td>    0.434</td> <td>    1.016</td>\n",
       "</tr>\n",
       "<tr>\n",
       "  <th>number_project</th>        <td>   -0.3110</td> <td>    0.021</td> <td>  -14.695</td> <td> 0.000</td> <td>   -0.352</td> <td>   -0.270</td>\n",
       "</tr>\n",
       "<tr>\n",
       "  <th>average_monthly_hours</th> <td>    0.0044</td> <td>    0.001</td> <td>    8.647</td> <td> 0.000</td> <td>    0.003</td> <td>    0.005</td>\n",
       "</tr>\n",
       "<tr>\n",
       "  <th>time_spend_company</th>    <td>    0.2558</td> <td>    0.015</td> <td>   16.793</td> <td> 0.000</td> <td>    0.226</td> <td>    0.286</td>\n",
       "</tr>\n",
       "<tr>\n",
       "  <th>Work_accident</th>         <td>   -1.5373</td> <td>    0.089</td> <td>  -17.183</td> <td> 0.000</td> <td>   -1.713</td> <td>   -1.362</td>\n",
       "</tr>\n",
       "<tr>\n",
       "  <th>promotion_last_5years</th> <td>   -1.5219</td> <td>    0.256</td> <td>   -5.935</td> <td> 0.000</td> <td>   -2.024</td> <td>   -1.019</td>\n",
       "</tr>\n",
       "<tr>\n",
       "  <th>salary_level</th>          <td>   -0.7053</td> <td>    0.038</td> <td>  -18.654</td> <td> 0.000</td> <td>   -0.779</td> <td>   -0.631</td>\n",
       "</tr>\n",
       "</table>"
      ],
      "text/plain": [
       "<class 'statsmodels.iolib.summary.Summary'>\n",
       "\"\"\"\n",
       "                           Logit Regression Results                           \n",
       "==============================================================================\n",
       "Dep. Variable:              Attrition   No. Observations:                14999\n",
       "Model:                          Logit   Df Residuals:                    14990\n",
       "Method:                           MLE   Df Model:                            8\n",
       "Date:                Thu, 30 Sep 2021   Pseudo R-squ.:                  0.2132\n",
       "Time:                        08:59:18   Log-Likelihood:                -6476.9\n",
       "converged:                       True   LL-Null:                       -8232.3\n",
       "Covariance Type:            nonrobust   LLR p-value:                     0.000\n",
       "=========================================================================================\n",
       "                            coef    std err          z      P>|z|      [0.025      0.975]\n",
       "-----------------------------------------------------------------------------------------\n",
       "const                     1.2098      0.129      9.382      0.000       0.957       1.463\n",
       "satisfaction_level       -4.1235      0.098    -42.285      0.000      -4.315      -3.932\n",
       "last_evaluation           0.7249      0.148      4.885      0.000       0.434       1.016\n",
       "number_project           -0.3110      0.021    -14.695      0.000      -0.352      -0.270\n",
       "average_monthly_hours     0.0044      0.001      8.647      0.000       0.003       0.005\n",
       "time_spend_company        0.2558      0.015     16.793      0.000       0.226       0.286\n",
       "Work_accident            -1.5373      0.089    -17.183      0.000      -1.713      -1.362\n",
       "promotion_last_5years    -1.5219      0.256     -5.935      0.000      -2.024      -1.019\n",
       "salary_level             -0.7053      0.038    -18.654      0.000      -0.779      -0.631\n",
       "=========================================================================================\n",
       "\"\"\""
      ]
     },
     "execution_count": 21,
     "metadata": {},
     "output_type": "execute_result"
    }
   ],
   "source": [
    "X = hr.drop(columns=['Attrition'])\n",
    "X = sm.add_constant(X)\n",
    "y = pd.DataFrame(hr[['Attrition']])\n",
    "log_results = sm.Logit(y,X, random_state=42).fit()\n",
    "log_results.summary()"
   ]
  },
  {
   "cell_type": "markdown",
   "metadata": {},
   "source": [
    "All of the independent variables are statisticall significant at the $\\alpha$ = 0.05 level."
   ]
  },
  {
   "cell_type": "markdown",
   "metadata": {},
   "source": [
    "## Train_Test_Validation Split"
   ]
  },
  {
   "cell_type": "code",
   "execution_count": 22,
   "metadata": {},
   "outputs": [
    {
     "name": "stdout",
     "output_type": "stream",
     "text": [
      "training size: 0.4\n",
      "validation size: 0.35\n",
      "test size: 0.25\n"
     ]
    }
   ],
   "source": [
    "size_train = round(6000/14999,2)\n",
    "size_valid = round(5230/14999,2)\n",
    "size_test = 500/2000\n",
    "print('training size:', size_train)\n",
    "print('validation size:', size_valid)\n",
    "print('test size:', size_test)"
   ]
  },
  {
   "cell_type": "code",
   "execution_count": 23,
   "metadata": {},
   "outputs": [
    {
     "name": "stdout",
     "output_type": "stream",
     "text": [
      "Training: 6000\n",
      "Validation: 5230\n",
      "Test: 3769\n"
     ]
    }
   ],
   "source": [
    "train, test = train_test_split(hr, train_size=6000, \n",
    "                               random_state=42)\n",
    "valid, test = train_test_split(test, train_size=5230, \n",
    "                               random_state=42)\n",
    "# confirm dimensions (size of newly partioned data)\n",
    "print('Training:',len(train))\n",
    "print('Validation:', len(valid))\n",
    "print('Test:', len(test))"
   ]
  },
  {
   "cell_type": "code",
   "execution_count": 24,
   "metadata": {},
   "outputs": [],
   "source": [
    "X_var = list(hr.columns)\n",
    "target ='Attrition'\n",
    "X_var.remove(target)\n",
    "X_train = train[X_var]\n",
    "y_train = train[target]\n",
    "X_test = test[X_var] \n",
    "y_test = test[target]\n",
    "X_valid = valid[X_var]\n",
    "y_valid = valid[target]"
   ]
  },
  {
   "cell_type": "markdown",
   "metadata": {},
   "source": [
    "## Modeling"
   ]
  }
 ],
 "metadata": {
  "kernelspec": {
   "display_name": "Python 3",
   "language": "python",
   "name": "python3"
  },
  "language_info": {
   "codemirror_mode": {
    "name": "ipython",
    "version": 3
   },
   "file_extension": ".py",
   "mimetype": "text/x-python",
   "name": "python",
   "nbconvert_exporter": "python",
   "pygments_lexer": "ipython3",
   "version": "3.8.3"
  }
 },
 "nbformat": 4,
 "nbformat_minor": 4
}
